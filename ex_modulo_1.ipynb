{
  "nbformat": 4,
  "nbformat_minor": 0,
  "metadata": {
    "colab": {
      "provenance": [],
      "collapsed_sections": [
        "d9jDtUbDOE1-"
      ],
      "toc_visible": true
    },
    "kernelspec": {
      "name": "python3",
      "display_name": "Python 3"
    }
  },
  "cells": [
    {
      "cell_type": "markdown",
      "metadata": {
        "id": "KJqp9AANOCtf"
      },
      "source": [
        "# **Módulo 01** | Python: Variáveis & Tipos de Dados\n",
        "Caderno de **Aula**<br> \n",
        "Professor [André Perez](https://www.linkedin.com/in/andremarcosperez/)\n",
        "\n",
        "---"
      ]
    },
    {
      "cell_type": "markdown",
      "metadata": {
        "id": "d9jDtUbDOE1-"
      },
      "source": [
        "# **Tópicos**\n",
        "\n",
        "<ol type=\"1\">\n",
        "  <li>Introdução ao Google Colab;</li>\n",
        "  <li>Variáveis;</li>\n",
        "  <li>Números;</li>\n",
        "  <li><i>Strings;</i></li>\n",
        "  <li>Boleanos.</li>\n",
        "</ol>"
      ]
    },
    {
      "cell_type": "markdown",
      "metadata": {
        "id": "SmoHgt-lwkpD"
      },
      "source": [
        "---"
      ]
    },
    {
      "cell_type": "markdown",
      "metadata": {
        "id": "GABI6OW8OfQ2"
      },
      "source": [
        "#**Exercícios**"
      ]
    },
    {
      "cell_type": "markdown",
      "metadata": {
        "id": "muD1vxozykSC"
      },
      "source": [
        "## 1\\. Google Colab"
      ]
    },
    {
      "cell_type": "markdown",
      "metadata": {
        "id": "xF1tFQyRQag2"
      },
      "source": [
        "* Crie uma célula de código que escreva o texto \"Olá mundo!\", utilize o comando `print`."
      ]
    },
    {
      "cell_type": "code",
      "source": [
        "print(\"Olá, Mundo!\")"
      ],
      "metadata": {
        "colab": {
          "base_uri": "https://localhost:8080/"
        },
        "id": "x5rC8Jh6CZxP",
        "outputId": "877e2844-9e10-4e22-cab8-fc169d2f6c26"
      },
      "execution_count": null,
      "outputs": [
        {
          "output_type": "stream",
          "name": "stdout",
          "text": [
            "Olá, Mundo!\n"
          ]
        }
      ]
    },
    {
      "cell_type": "markdown",
      "source": [
        "* Crie uma célua de texto e adicione uma imagem."
      ],
      "metadata": {
        "id": "uSpfdtPhCfDm"
      }
    },
    {
      "cell_type": "markdown",
      "source": [
        "<img src=\"https://raw.githubusercontent.com/andre-marcos-perez/ebac-course-utils/main/media/logo/newebac_logo_black_half.png\" alt=\"ebac-logo\">"
      ],
      "metadata": {
        "id": "ZyNxWuBaC6Ym"
      }
    },
    {
      "cell_type": "markdown",
      "metadata": {
        "id": "VkIgtLmhQRDV"
      },
      "source": [
        "### **2. Números**"
      ]
    },
    {
      "cell_type": "markdown",
      "metadata": {
        "id": "P14BSbuH0SQB"
      },
      "source": [
        "Preencha as células de código para preencher os valores de (A), (B) e (C) na tabela de ticket médio abaixo:"
      ]
    },
    {
      "cell_type": "markdown",
      "source": [
        "| Dia   | Valor Total Vendas | Qtd Total Vendas | Ticket Medio |\n",
        "|-------|--------------------|------------------|-|\n",
        "| 19/01 | (A)                | 3                |320.52|\n",
        "| 20/01 | 834.47             | (B)              |119.21|\n",
        "| 23/01 | 15378.12           | 5                |(C)|"
      ],
      "metadata": {
        "id": "sATdPGRuEZz_"
      }
    },
    {
      "cell_type": "markdown",
      "source": [
        "Como calcular o **Valor Total Vendas (A)**?</br>\n",
        "É a Quantidade Total de Vendas multiplicado pelo Ticket Médio. (resposta no código abaixo)"
      ],
      "metadata": {
        "id": "BkSvMmutKWjp"
      }
    },
    {
      "cell_type": "code",
      "source": [
        "qtd_total_vendas = 3\n",
        "ticket_medio = 320.52\n",
        "valor_total_vendas = qtd_total_vendas * ticket_medio\n",
        "\n",
        "print(\"Valor Total de Vendas é de: R$\", valor_total_vendas)"
      ],
      "metadata": {
        "colab": {
          "base_uri": "https://localhost:8080/"
        },
        "id": "s61_zyTgH-Fg",
        "outputId": "d3d29c5e-30e7-4a1d-8d99-a43fa5e76485"
      },
      "execution_count": null,
      "outputs": [
        {
          "output_type": "stream",
          "name": "stdout",
          "text": [
            "Valor Total de Vendas é de: R$ 961.56\n"
          ]
        }
      ]
    },
    {
      "cell_type": "markdown",
      "source": [
        "**Como calcular a Qtd Total Vendas (B)?**</br>\n",
        "É o Valor Total de Vendas dividido pelo Ticket Médio. (resposta no código abaixo)"
      ],
      "metadata": {
        "id": "Vxdp6J42LQOB"
      }
    },
    {
      "cell_type": "code",
      "source": [
        "valor_total_vendas = 834.47\n",
        "ticket_medio = 119.21\n",
        "qtd_total_vendas = valor_total_vendas / ticket_medio\n",
        "\n",
        "print(\"A quantidade Total de Vendas é de: R$\", qtd_total_vendas)"
      ],
      "metadata": {
        "colab": {
          "base_uri": "https://localhost:8080/"
        },
        "id": "KsdWr5KgLTkh",
        "outputId": "44547893-ad93-4c27-f827-34b92fbffb9e"
      },
      "execution_count": null,
      "outputs": [
        {
          "output_type": "stream",
          "name": "stdout",
          "text": [
            "A quantidade Total de Vendas é de: R$ 7.000000000000001\n"
          ]
        }
      ]
    },
    {
      "cell_type": "markdown",
      "source": [
        "**Como calcular o Ticket Medio (C)?**</br>\n",
        "É o Valor Total de Vendas dividido pela Quantidade de Vendas."
      ],
      "metadata": {
        "id": "rZWOL_LyKito"
      }
    },
    {
      "cell_type": "code",
      "source": [
        "valor_total_vendas = 15378.12\n",
        "qtd_total_vendas = 5\n",
        "ticket_medio = valor_total_vendas / qtd_total_vendas\n",
        "\n",
        "print(\"Ticket Médio é de: R$\", ticket_medio)"
      ],
      "metadata": {
        "colab": {
          "base_uri": "https://localhost:8080/"
        },
        "id": "H8o9pR8UGKgo",
        "outputId": "27e737f1-ae2a-418f-8c46-7176b2d03d7c"
      },
      "execution_count": null,
      "outputs": [
        {
          "output_type": "stream",
          "name": "stdout",
          "text": [
            "Ticket Médio é de: R$ 3075.6240000000003\n"
          ]
        }
      ]
    },
    {
      "cell_type": "markdown",
      "metadata": {
        "id": "mIgaH380QG2e"
      },
      "source": [
        "### **3. Strings**"
      ]
    },
    {
      "cell_type": "markdown",
      "metadata": {
        "id": "_4Q4H0RKm-4G"
      },
      "source": [
        "Aplique três métodos distintos na *string* abaixo, você pode conferir alguns métodos neste <a href=\"https://www.w3schools.com/python/python_ref_string.asp\" class=\"post-title\"> link:</a>"
      ]
    },
    {
      "cell_type": "code",
      "source": [
        "cancao = 'Roda mundo, roda gigante, roda moinho, roda pião.'\n",
        "\n",
        "texto_maiusculo = cancao.upper()\n",
        "print(texto_maiusculo)\n",
        "\n",
        "converte_strings_em_letras_minusculas = cancao.casefold()\n",
        "print(converte_strings_em_letras_minusculas)\n",
        "\n",
        "texto_substituido = cancao.replace('Roda', 'Gira')\n",
        "print(texto_substituido)"
      ],
      "metadata": {
        "colab": {
          "base_uri": "https://localhost:8080/"
        },
        "id": "oXSjFJiwW2uK",
        "outputId": "d808d9b5-df78-47cf-ba16-c58f7bc84307"
      },
      "execution_count": 1,
      "outputs": [
        {
          "output_type": "stream",
          "name": "stdout",
          "text": [
            "RODA MUNDO, RODA GIGANTE, RODA MOINHO, RODA PIÃO.\n",
            "roda mundo, roda gigante, roda moinho, roda pião.\n",
            "Gira mundo, roda gigante, roda moinho, roda pião.\n"
          ]
        }
      ]
    },
    {
      "cell_type": "markdown",
      "metadata": {
        "id": "h5y7fCLQkZsh"
      },
      "source": [
        "Extraia da string abaixo o valor da taxa **selic** na variável `selic` e o valor do **ano** na variavel ano. Imprima os valores na tela."
      ]
    },
    {
      "cell_type": "code",
      "source": [
        "noticia = '''\n",
        "Selic vai a 2,75% e supera expectativas; \n",
        "é a primeira alta em 6 anos.\n",
        "'''\n",
        "selic = noticia[13:17]\n",
        "print(\"O valor da selic é:\", selic)\n",
        "\n",
        "ano = noticia[64:66]\n",
        "print(\"O valor ano é:\", ano)"
      ],
      "metadata": {
        "colab": {
          "base_uri": "https://localhost:8080/"
        },
        "id": "IsPj4kMJd_lp",
        "outputId": "19a3eb36-6145-431e-e7c1-2e06f6db56e0"
      },
      "execution_count": null,
      "outputs": [
        {
          "output_type": "stream",
          "name": "stdout",
          "text": [
            "O valor da selic é: 2,75\n",
            "O valor ano é: 6 \n"
          ]
        }
      ]
    },
    {
      "cell_type": "markdown",
      "source": [
        "### **4. Boleanos**"
      ],
      "metadata": {
        "id": "bxS7gUHStZyz"
      }
    },
    {
      "cell_type": "markdown",
      "source": [
        "Utilize a tabela da verdade para responder: qual o valor da variável x?"
      ],
      "metadata": {
        "id": "sQ-e89UvtgLD"
      }
    },
    {
      "cell_type": "code",
      "source": [
        "a = False\n",
        "b = True\n",
        "\n",
        "x = not a & b\n",
        "print(x)"
      ],
      "metadata": {
        "colab": {
          "base_uri": "https://localhost:8080/"
        },
        "id": "Zo2g22bStkPp",
        "outputId": "30121acb-43fa-40c8-e566-625183f6757f"
      },
      "execution_count": 3,
      "outputs": [
        {
          "output_type": "stream",
          "name": "stdout",
          "text": [
            "True\n"
          ]
        }
      ]
    }
  ]
}